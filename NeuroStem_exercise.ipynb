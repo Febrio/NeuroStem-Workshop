{
 "cells": [
  {
   "cell_type": "code",
   "execution_count": null,
   "metadata": {},
   "outputs": [],
   "source": [
    "Notes for me ( will delete this cell)\n",
    "\n",
    "- https://github.com/collin1021/jupyter4kids/blob/master/notebooks/numerical-computing-is-fun-1.ipynb\n",
    "- https://github.com/Project-MONAI/monai-bootcamp/blob/main/MONAICore/Intro%20to%20MONAI.ipynb\n",
    "\n",
    "\n",
    "Other public EEG dataset\n",
    "- https://github.com/meagmohit/EEG-Datasets ()\n",
    "\n",
    "More sample datasets from MNE\n",
    "- https://mne.tools/dev/documentation/datasets.html#sample\n",
    "\n",
    "User guidelines on Binder\n",
    "https://mybinder.readthedocs.io/en/latest/about/user-guidelines.html\n",
    "\n"
   ]
  },
  {
   "cell_type": "markdown",
   "metadata": {},
   "source": [
    "# WELCOME TO NEUROSTEM WORKSHOP 2024\n",
    "[insert NEUROSTEM logo here, if there is one???????]\n",
    "\n",
    "\n",
    "This document will give you hands-on experience in what **neuroscientists** do when analysing Electroencephalography(EEG) data!\n"
   ]
  },
  {
   "cell_type": "markdown",
   "metadata": {},
   "source": [
    "\n",
    "## Introduction\n",
    "\n",
    "What you will learn from this workshop: \n",
    "\n",
    "1. How to configure Python so that it can analyse EEG dataset\n",
    "2. How to load the data\n",
    "3. How to manipulate the data\n",
    "4. How to visualise the data\n",
    "5. How to interpret the data\n",
    "\n",
    "Note: This document you are reading is called a [Jupyter notebook](https://jupyter.org/). It is not a static document like a Microsoft Word document, but rather an interactive document that allows us to write and execute code within it!\n",
    "\n",
    "\n",
    "### Coding Warm UP! \n",
    "\n",
    "Let's warm up! In the below empty cell called \"TESTING CELL\" (where code can be executed)\n",
    "- Make a program that says \"Hello World\" (For example, type `print(\"Hello World\")`)\n",
    "\n",
    "- Do some simple but difficult maths (For example, type `512 * 15678 * 1.75`)\n",
    "\n",
    "To execute the code, select the cell of interest then click on the \"play\" symbol (inside red circle) at the top of your document as seen in the below screenshot.\n",
    "\n",
    "![Congratz!](pics/jpy_notebook_help.png)"
   ]
  },
  {
   "cell_type": "code",
   "execution_count": 1,
   "metadata": {},
   "outputs": [
    {
     "name": "stdout",
     "output_type": "stream",
     "text": [
      "Hello World\n"
     ]
    },
    {
     "data": {
      "text/plain": [
       "14047488.0"
      ]
     },
     "execution_count": 1,
     "metadata": {},
     "output_type": "execute_result"
    }
   ],
   "source": [
    "################################# TESTING CELL ################################\n",
    "print(\"Hello World\")\n",
    "512 * 15678 * 1.75\n"
   ]
  },
  {
   "cell_type": "markdown",
   "metadata": {},
   "source": [
    "![Congratz!](notebook_gif/Tay_tay_congrats.gif)\n",
    "\n",
    "Congratulations, you just wrote a simple program in Python language! Now let's move on to the fun stuff! 😊"
   ]
  },
  {
   "cell_type": "markdown",
   "metadata": {},
   "source": [
    "## Learning Objective 1: Configuring Python (Loading the packages/dependecies)\n",
    "\n",
    "Python is a very versatile and powerful programming tool. It can be used to program robots, create games, music and even art! However, it is very important that Python is correctly configured for the right job.\n",
    "\n",
    "For us, as neuroscientists, Python needs to be configured with neuroscientists tools so that it's useful to us.\n",
    "\n",
    "To do so we can run below code in the following cell (\"CELL 1\"):\n",
    " - `import mne` : this line of code configures Python with the specialised tools so that it can work with EEG data. \n",
    " - `import numpy as np` : this allows Python to do even more complicated Mathematical operations which will help us when manipulating the EEG data\n",
    " - `import matplotlib.pyplot as plt` : this allows Python to plot the data on a graph\n",
    " - `import os` : this allows Python to access where the EEG data will be stored and loaded from\n",
    "\n"
   ]
  },
  {
   "cell_type": "code",
   "execution_count": 34,
   "metadata": {},
   "outputs": [],
   "source": [
    "################################# CELL 1 ################################\n",
    "\n",
    "# import .....\n",
    "import mne\n",
    "import numpy as np\n",
    "import matplotlib.pyplot as plt\n",
    "import os"
   ]
  },
  {
   "cell_type": "markdown",
   "metadata": {},
   "source": [
    "## Learning Objective 2 : Load Up the EEG Data\n",
    "\n",
    "\n",
    "Comment: other source of EEG data https://github.com/meagmohit/EEG-Datasets\n",
    "- Pre download mne sample dataset and upload the raw eeg file to the repo (saves times instead of downloading 1.5GB)\n",
    "\n",
    "Well done, now Python is tooled up to do neuroscience work! For Python to be useful though, we need to have EEG data that it can analyzed.\n",
    "Fortunately, a sample EEG data has been provided for you.\n",
    "\n",
    "To access/load this data, your task is to modify the code in \"CELL 2\".\n",
    "\n",
    "Hint:\n",
    "- `raw = mne.io.read_raw_fif(file_location)`: this code will find the sample data defined in the file location variable we call here `file_location`, read the data and then store the data into a variable called `raw`\n",
    "- In our case, the file location's variable has been defined as `sample_data_location`\n",
    "- Modify the line `raw = mne.io.read_raw_fif(............)` so that it can access and load our sample data\n"
   ]
  },
  {
   "cell_type": "code",
   "execution_count": 39,
   "metadata": {},
   "outputs": [
    {
     "name": "stdout",
     "output_type": "stream",
     "text": [
      "Opening raw data file sample_data/sample_audvis_raw.fif...\n",
      "    Read a total of 3 projection items:\n",
      "        PCA-v1 (1 x 102)  idle\n",
      "        PCA-v2 (1 x 102)  idle\n",
      "        PCA-v3 (1 x 102)  idle\n",
      "    Range : 25800 ... 61837 =     42.956 ...   102.956 secs\n",
      "Ready.\n"
     ]
    }
   ],
   "source": [
    "################################# CELL 2 ################################\n",
    "\n",
    "sample_data_location = os.path.join(\n",
    "    \"sample_data\", \"sample_audvis_raw.fif\"\n",
    ") \n",
    "\n",
    "# raw = mne.io.read_raw_fif(................)\n",
    "raw = mne.io.read_raw_fif(sample_data_location)\n"
   ]
  },
  {
   "cell_type": "markdown",
   "metadata": {},
   "source": [
    "Great job! Now that we've loaded the data, it's time to dive into the exciting part: understanding what we're dealing with. Why is this so crucial, you might wonder? Imagine this scenario: What if we accidentally loaded the wrong data, or worse, what if the data is corrupted or incomplete?\n",
    "We definitely don't want to spend hours analyzing data only to realize later that it was incorrect or flawed! Let's make sure we're on the right track from the get-go.\n",
    "\n",
    "\n",
    "To check we can print the quick summary details of the data by seeing the details of the `raw` variable. Just type in `raw` in \"CELL 3\", execute the cell."
   ]
  },
  {
   "cell_type": "code",
   "execution_count": 36,
   "metadata": {},
   "outputs": [
    {
     "data": {
      "text/html": [
       "<details open>\n",
       "    <summary><strong>General</strong></summary>\n",
       "    <table class=\"table table-hover table-striped table-sm table-responsive small\">\n",
       "        <tr>\n",
       "            <th>Measurement date</th>\n",
       "            \n",
       "            <td>December 03, 2002  19:01:10 GMT</td>\n",
       "            \n",
       "        </tr>\n",
       "        <tr>\n",
       "            <th>Experimenter</th>\n",
       "            \n",
       "            <td>MEG</td>\n",
       "            \n",
       "        </tr>\n",
       "        <tr>\n",
       "            <th>Participant</th>\n",
       "            \n",
       "            <td>Unknown</td>\n",
       "            \n",
       "        </tr>\n",
       "    </table>\n",
       "    </details>\n",
       "    <details open>\n",
       "        <summary><strong>Channels</strong></summary>\n",
       "        <table class=\"table table-hover table-striped table-sm table-responsive small\">\n",
       "            <tr>\n",
       "                <th>Digitized points</th>\n",
       "                \n",
       "                <td>146 points</td>\n",
       "                \n",
       "            </tr>\n",
       "            <tr>\n",
       "                <th>Good channels</th>\n",
       "                <td>203 Gradiometers, 102 Magnetometers, 9 Stimulus, 59 EEG, 1 EOG</td>\n",
       "            </tr>\n",
       "            <tr>\n",
       "                <th>Bad channels</th>\n",
       "                <td>MEG 2443, EEG 053</td>\n",
       "            </tr>\n",
       "            <tr>\n",
       "                <th>EOG channels</th>\n",
       "                <td>EOG 061</td>\n",
       "            </tr>\n",
       "            <tr>\n",
       "                <th>ECG channels</th>\n",
       "                <td>Not available</td>\n",
       "            </tr>\n",
       "        </table>\n",
       "        </details>\n",
       "        <details open>\n",
       "            <summary><strong>Data</strong></summary>\n",
       "            <table class=\"table table-hover table-striped table-sm table-responsive small\">\n",
       "                \n",
       "                <tr>\n",
       "                    <th>Sampling frequency</th>\n",
       "                    <td>600.61 Hz</td>\n",
       "                </tr>\n",
       "                \n",
       "                \n",
       "                <tr>\n",
       "                    <th>Highpass</th>\n",
       "                    <td>0.10 Hz</td>\n",
       "                </tr>\n",
       "                \n",
       "                \n",
       "                <tr>\n",
       "                    <th>Lowpass</th>\n",
       "                    <td>172.18 Hz</td>\n",
       "                </tr>\n",
       "                \n",
       "                \n",
       "                <tr>\n",
       "                    <th>Projections</th>\n",
       "                    <td>PCA-v1 : off<br />PCA-v2 : off<br />PCA-v3 : off</td>\n",
       "                </tr>\n",
       "                \n",
       "                \n",
       "                <tr>\n",
       "                    <th>Filenames</th>\n",
       "                    <td>sample_audvis_raw.fif</td>\n",
       "                </tr>\n",
       "                \n",
       "                \n",
       "                <tr>\n",
       "                    <th>Duration</th>\n",
       "                    <td>00:01:01 (HH:MM:SS)</td>\n",
       "                </tr>\n",
       "                \n",
       "            </table>\n",
       "            </details>"
      ],
      "text/plain": [
       "<Raw | sample_audvis_raw.fif, 376 x 36038 (60.0 s), ~3.3 MB, data not loaded>"
      ]
     },
     "execution_count": 36,
     "metadata": {},
     "output_type": "execute_result"
    }
   ],
   "source": [
    "################################# CELL 3 ################################\n",
    "raw"
   ]
  },
  {
   "cell_type": "markdown",
   "metadata": {},
   "source": [
    "Take a moment to look at the data summary table provided. This table gives us a snapshot of the main characteristics of our dataset.\n",
    "\n",
    "Do you notice any irregularities or anomalies in the data? If so, make a note of them. These could be potential concerns that need to be addressed or explored further.\n",
    "Share your findings with your peers or teacher, see what they have to say as well!"
   ]
  },
  {
   "cell_type": "markdown",
   "metadata": {},
   "source": [
    "## Learning Objective 3 : Electroencephalography(EEG) Data Manipulation\n",
    "\n",
    "Well done on getting to this part of the workshop!\n",
    "\n",
    "Now that we've got our hands on the data, it's time to manipulate the data and remove any pesky irregularities before we can plot it.\n",
    "If you had notice, there are several points you could infer from the data summary:\n",
    "1. The data is about 1 minute long. To accelerate analysis, it would be wise for us to crop the data so that it is 20 seconds long. \n",
    "2. The data is consisted of informations from several source channels (that is Gradiometers, Magnetometers, Stimulis, EEG and EOG). However, we want only the EEG channels. \n",
    "3. Moreover, there are bad channels that also had been detected. We need to remove these channels before we can plot the data.\n",
    "\n",
    "\n",
    "To complete this objective, your task is to modify the code in \"CELL 4\".\n",
    "\n",
    "Hint:\n",
    "- `raw.crop(tmax=5)`: this code will cut fown the length of the data into whatever value has been specified for `tmax`. For this example, we have cut the data to only show us the first 5 seconds\n",
    "- `raw.drop_channels([\"EEG 111\"])` : this code will remove the specified channel. For this example, we are removing channel `EEG 111`\n",
    "- `meg_data_only = raw.copy().pick(picks=[\"meg\"])` : this code will extract the specific type of channel and store it into a variable called `meg_data_only`. For this example, we are extracting `meg` data only. To extract EEG data, we need to use `eeg` \n"
   ]
  },
  {
   "cell_type": "code",
   "execution_count": 65,
   "metadata": {},
   "outputs": [
    {
     "name": "stdout",
     "output_type": "stream",
     "text": [
      "Removing projector <Projection | PCA-v1, active : False, n_channels : 102>\n",
      "Removing projector <Projection | PCA-v2, active : False, n_channels : 102>\n",
      "Removing projector <Projection | PCA-v3, active : False, n_channels : 102>\n",
      "<Info | 19 non-empty values\n",
      " acq_pars: ACQch001 110113 ACQch002 110112 ACQch003 110111 ACQch004 110122 ...\n",
      " bads: []\n",
      " ch_names: EEG 001, EEG 002, EEG 003, EEG 004, EEG 005, EEG 006, EEG 007, ...\n",
      " chs: 59 EEG\n",
      " custom_ref_applied: False\n",
      " description: acquisition (megacq) VectorView system at NMR-MGH\n",
      " dev_head_t: MEG device -> head transform\n",
      " dig: 146 items (3 Cardinal, 4 HPI, 61 EEG, 78 Extra)\n",
      " events: 1 item (list)\n",
      " experimenter: MEG\n",
      " file_id: 4 items (dict)\n",
      " highpass: 0.1 Hz\n",
      " hpi_meas: 1 item (list)\n",
      " hpi_results: 1 item (list)\n",
      " lowpass: 172.2 Hz\n",
      " meas_date: 2002-12-03 19:01:10 UTC\n",
      " meas_id: 4 items (dict)\n",
      " nchan: 59\n",
      " proj_id: 1 item (ndarray)\n",
      " proj_name: test\n",
      " projs: []\n",
      " sfreq: 600.6 Hz\n",
      ">\n"
     ]
    }
   ],
   "source": [
    "################################# CELL 4 ################################\n",
    "# raw_copy = raw.copy().crop(tmax=............)\n",
    "# raw_copy.drop_channels([\"................\"])\n",
    "# eeg_data_only = raw_copy.copy().pick(picks=[\"........\"])\n",
    "\n",
    "\n",
    "raw_copy = raw.copy().crop(tmax=30)\n",
    "raw_copy.drop_channels([\"EEG 053\"])\n",
    "eeg_data_only = raw_copy.copy().pick(picks=[\"eeg\"])\n",
    "\n",
    "print(eeg_data_only.info)"
   ]
  },
  {
   "cell_type": "markdown",
   "metadata": {},
   "source": [
    "## Learning Objective 4 : Plot/Graph Electroencephalography(EEG) data\n",
    "\n",
    "Fantastic! Now the data is ready to be plotted. Your task here is to visualize the EEG data between specific times for analysis. To do this, we will be using the `matplotlib` package that we imported earlier to plot the data.\n",
    "Also, don't forget to annotate your plot. Without it, it is meaningless to the readers. \n",
    "\n",
    "To complete this objective, your task is to modify the code in \"CELL 5\".\n",
    "\n",
    "Things to do for this objective (\"CELL 5\"):\n",
    "- Plot the graph\n",
    "- Don't forget to annotate it! (xlabel, ylabel, title)\n"
   ]
  },
  {
   "cell_type": "code",
   "execution_count": 74,
   "metadata": {},
   "outputs": [
    {
     "data": {
      "image/png": "[encoded data removed]",
      "text/plain": [
       "<Figure size 640x480 with 1 Axes>"
      ]
     },
     "metadata": {},
     "output_type": "display_data"
    }
   ],
   "source": [
    "################################# CELL 5 ################################\n",
    "\n",
    "\n",
    "start_time = 0 # For STUDENTS to modify\n",
    "stop_time = 59 # For STUDENTS to modify\n",
    "channel_name = 'EEG 001' # For STUDENTS to modify\n",
    "\n",
    "start_stop_seconds = np.array([start_time, stop_time])\n",
    "\n",
    "# channel_index = 57\n",
    "\n",
    "##### DON\"T MODIFY CODE BELOW ######\n",
    "sampling_freq = raw.info[\"sfreq\"]\n",
    "start_sample, stop_sample = (start_stop_seconds * sampling_freq).astype(int)\n",
    "selected_eeg = eeg_data_only[channel_name, start_sample:stop_sample]\n",
    "x = selected_eeg[1]\n",
    "y = selected_eeg[0].T * 10**5 # Convert to micro Volts\n",
    "###################################\n",
    "\n",
    "\n",
    "######### CODE FOR PLOTTING ##########\n",
    "# Add x-label and y-label\n",
    "plt.xlabel('Time (seconds)') # For STUDENTS to modify\n",
    "plt.ylabel('Amplitude(μV)')# For STUDENTS to modify\n",
    "plt.title('This title') # For STUDENTS to modify\n",
    " \n",
    "# Show the plot\n",
    "plt.plot(x, y) # For STUDENTS to modify\n",
    "plt.show()\n",
    "\n"
   ]
  },
  {
   "cell_type": "markdown",
   "metadata": {},
   "source": [
    "## Learning Objective 5 : Interpret The Data/plot\n",
    "\n",
    "\n",
    "Give example with images/ plot that explains a particular condition \n",
    "\n",
    "\n",
    "\n",
    "Context around the experiment:\n",
    "\n",
    "In this experiment, checkerboard patterns were presented to the subject into the left and right visual field, interspersed by tones to the left or right ear. \n",
    "\n",
    "The interval between the stimuli was 750 ms. \n",
    "Occasionally a smiley face was presented at the center of the visual field. The subject was asked to press a key with the right index finger as soon as possible after the appearance of the face.\n",
    "\n",
    "\n",
    "Your task:\n",
    "- Take a look at the graph or plot you've made. What do you think it's telling us about the subject? Do you notice any patterns? You are welcome to type in your thoughts below in \"CELL 6\"\n",
    "- I encourage you to chat with your friends about it! What do they think? Remember, scientists work together and share ideas. The more brains, the better!"
   ]
  },
  {
   "cell_type": "code",
   "execution_count": null,
   "metadata": {},
   "outputs": [],
   "source": [
    "################################# CELL 6 ################################\n"
   ]
  },
  {
   "cell_type": "markdown",
   "metadata": {},
   "source": [
    "# Congratulations, Brain Explorers! 🎉🎉\n",
    "\n",
    "Your minds are officially blown! 🤯💥\n",
    "You've just completed an incredible journey through the world of neuroscience! 🧠💡\n",
    "\n",
    "From unraveling the mysteries of the brain to exploring the intricacies of neural networks, you've delved into the fascinating realm of neuroscience with enthusiasm and curiosity.\n",
    "\n",
    "Your dedication and eagerness to learn have truly shone throughout this workshop, and we couldn't be prouder of your achievements.\n",
    "\n",
    "As you continue your academic pursuits and personal growth, remember that the knowledge and skills you've gained here will serve as a solid foundation for your future endeavors.\n",
    "\n",
    "Keep exploring, keep questioning, and keep pushing the boundaries of what you know. The world of neuroscience awaits your bright ideas and innovative discoveries!\n",
    "\n",
    "Congratulations once again on completing the neuroscience workshop. We can't wait to see where your journey takes you next! 🚀🧠 #NeuroSTEM2024\n",
    "\n",
    "![Congratz!](notebook_gif/mind_blown.gif)\n",
    "\n",
    "![Congratz!](notebook_gif/big_brain.gif)\n",
    "\n"
   ]
  }
 ],
 "metadata": {
  "kernelspec": {
   "display_name": "Python 3",
   "language": "python",
   "name": "python3"
  },
  "language_info": {
   "codemirror_mode": {
    "name": "ipython",
    "version": 3
   },
   "file_extension": ".py",
   "mimetype": "text/x-python",
   "name": "python",
   "nbconvert_exporter": "python",
   "pygments_lexer": "ipython3",
   "version": "3.8.10"
  }
 },
 "nbformat": 4,
 "nbformat_minor": 2
}
