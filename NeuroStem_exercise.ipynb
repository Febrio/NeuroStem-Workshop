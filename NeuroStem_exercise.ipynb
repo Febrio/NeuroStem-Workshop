{
 "cells": [
  {
   "cell_type": "code",
   "execution_count": null,
   "metadata": {},
   "outputs": [],
   "source": [
    "Notes for me ( will delete this cell)\n",
    "\n",
    "- https://github.com/collin1021/jupyter4kids/blob/master/notebooks/numerical-computing-is-fun-1.ipynb\n",
    "- https://github.com/Project-MONAI/monai-bootcamp/blob/main/MONAICore/Intro%20to%20MONAI.ipynb\n",
    "\n",
    "\n",
    "Other public EEG dataset\n",
    "- https://github.com/meagmohit/EEG-Datasets ()\n",
    "\n",
    "More sample datasets from MNE\n",
    "- https://mne.tools/dev/documentation/datasets.html#sample\n",
    "\n",
    "User guidelines on Binder\n",
    "https://mybinder.readthedocs.io/en/latest/about/user-guidelines.html\n",
    "\n"
   ]
  },
  {
   "cell_type": "markdown",
   "metadata": {},
   "source": [
    "\n",
    "\n",
    "# WELCOME TO NEUROSTEM WORKSHOP 2024\n",
    "[insert NEUROSTEM logo here]\n",
    "\n",
    "\n",
    "This document will give you hands-on experience in what **neuroscientists** do when analysing Electroencephalography(EEG) data!\n"
   ]
  },
  {
   "cell_type": "markdown",
   "metadata": {},
   "source": [
    "\n",
    "## Introduction\n",
    "\n",
    "What you will learn from this workshop: \n",
    "\n",
    "1. How to configure Python so that it can analyse EEG dataset\n",
    "2. How to load the data\n",
    "3. How to manipulate the data\n",
    "4. How to visualise the data\n",
    "5. How to interpret the data\n",
    "\n",
    "Note: This document you are reading is called a [Jupyter notebook](https://jupyter.org/). It is not a static document like a Microsoft Word document, but rather an interactive document that allows us to write and execute code within it!\n",
    "\n",
    "\n",
    "### Coding Warm UP! \n",
    "\n",
    "In the below empty cell called \"TESTING CELL\" (where code can be executed)\n",
    "- Let's make a program that says \"Hello World\" (For example, type `print(\"Hello World\")`)\n",
    "\n",
    "- Let's do some simple but difficult maths (For example, type `512 * 15678 * 1.75`)\n",
    "\n",
    " To execute the code, click on ......... (may need to have screenshot of jupyter notebook's GUI)???\n"
   ]
  },
  {
   "cell_type": "code",
   "execution_count": 1,
   "metadata": {},
   "outputs": [
    {
     "name": "stdout",
     "output_type": "stream",
     "text": [
      "Hello World\n"
     ]
    },
    {
     "data": {
      "text/plain": [
       "14047488.0"
      ]
     },
     "execution_count": 1,
     "metadata": {},
     "output_type": "execute_result"
    }
   ],
   "source": [
    "################################# TESTING CELL ################################\n",
    "print(\"Hello World\")\n",
    "512 * 15678 * 1.75\n"
   ]
  },
  {
   "cell_type": "markdown",
   "metadata": {},
   "source": [
    "![Congratz!](/home/lun047/Desktop/NeuroSTEM/NeuroStem-Workshop/notebook_gif/Tay_tay_congrats.gif)\n",
    "\n",
    "Congratulations, you just wrote a simple program in Python language! Now let's move on to the fun stuff! :)"
   ]
  },
  {
   "cell_type": "markdown",
   "metadata": {},
   "source": [
    "#### Learning Objective 1: Configuring Python (Loading the packages/dependecies)\n",
    "\n",
    "Python is a very versatile and powerful programming tool. It can be used to program robots, create games, music and even art! However, it is very important that Python is correctly configured for the right job.\n",
    "\n",
    "For us, as neuroscientists, Python needs to be configured with neuroscientists tools so that it's useful to us.\n",
    "\n",
    "To do so we can run below code in the following cell (\"CELL 1\"):\n",
    " - `import mne` : this line of code configures Python with the specialised tools so that it can work with EEG data. \n",
    " - `import numpy as np` : this allows Python to do even more complicated Mathematical operations which will help us when manipulating the EEG data\n",
    " - `import matplotlib.pyplot as plt` : this allows Python to plot the data on a graph\n",
    " - `import os` : this allows Python to access where the EEG data will be stored and loaded from\n",
    "\n"
   ]
  },
  {
   "cell_type": "code",
   "execution_count": 2,
   "metadata": {},
   "outputs": [],
   "source": [
    "################################# CELL 1 ################################\n",
    "\n",
    "# import .....\n",
    "import mne\n",
    "import numpy as np\n",
    "import os"
   ]
  },
  {
   "cell_type": "markdown",
   "metadata": {},
   "source": [
    "#### Learning Objective 2 : Load Up the EEG Data\n",
    "\n",
    "\n",
    "Comment: other source of EEG data https://github.com/meagmohit/EEG-Datasets\n",
    "- Pre download mne sample dataset and upload the raw eeg file to the repo (saves times instead of downloading 1.5GB)\n",
    "- \n",
    "\n",
    "Well done, now Python is tooled up to do neuroscience work! For Python to be useful though, we need to have EEG data that it can analyzed.\n",
    "Fortunately, a sample EEG data has been provided for you.\n",
    "\n",
    "To access/load this data, your task is to modify the code in \"CELL 2\".\n",
    "\n",
    "Hint:\n",
    "- `raw = mne.io.read_raw_fif(file_location)`: this code will find the sample data defined in the file location variable we call here `file_location`, read the data and then store the data into a variable called `raw`\n",
    "- In our case, the file location's variable has been defined as `sample_data_location`\n",
    "- Modify the line `raw = mne.io.read_raw_fif(............)` so that it can access and load our sample data\n"
   ]
  },
  {
   "cell_type": "code",
   "execution_count": 30,
   "metadata": {},
   "outputs": [
    {
     "name": "stdout",
     "output_type": "stream",
     "text": [
      "Opening raw data file sample_data/sample_audvis_raw.fif...\n",
      "    Read a total of 3 projection items:\n",
      "        PCA-v1 (1 x 102)  idle\n",
      "        PCA-v2 (1 x 102)  idle\n",
      "        PCA-v3 (1 x 102)  idle\n",
      "    Range : 25800 ... 61837 =     42.956 ...   102.956 secs\n",
      "Ready.\n"
     ]
    }
   ],
   "source": [
    "################################# CELL 2 ################################\n",
    "\n",
    "sample_data_location = os.path.join(\n",
    "    \"sample_data\", \"sample_audvis_raw.fif\"\n",
    ") \n",
    "\n",
    "# raw = mne.io.read_raw_fif(................)\n",
    "raw = mne.io.read_raw_fif(sample_data_location)\n",
    "\n"
   ]
  },
  {
   "cell_type": "markdown",
   "metadata": {},
   "source": [
    "Great job! Now that we've loaded the data, it's time to dive into the exciting part: understanding what we're dealing with. Why is this so crucial, you might wonder? Imagine this scenario: What if we accidentally loaded the wrong data, or worse, what if the data is corrupted or incomplete?\n",
    "We definitely don't want to spend hours analyzing data only to realize later that it was incorrect or flawed! Let's make sure we're on the right track from the get-go.\n",
    "\n",
    "\n",
    "To check we can print the quick summary details of the data by seeing the details of the `raw` variable. Just type in `raw` in \"CELL 3\", execute the cell."
   ]
  },
  {
   "cell_type": "code",
   "execution_count": 31,
   "metadata": {},
   "outputs": [
    {
     "data": {
      "text/html": [
       "<details open>\n",
       "    <summary><strong>General</strong></summary>\n",
       "    <table class=\"table table-hover table-striped table-sm table-responsive small\">\n",
       "        <tr>\n",
       "            <th>Measurement date</th>\n",
       "            \n",
       "            <td>December 03, 2002  19:01:10 GMT</td>\n",
       "            \n",
       "        </tr>\n",
       "        <tr>\n",
       "            <th>Experimenter</th>\n",
       "            \n",
       "            <td>MEG</td>\n",
       "            \n",
       "        </tr>\n",
       "        <tr>\n",
       "            <th>Participant</th>\n",
       "            \n",
       "            <td>Unknown</td>\n",
       "            \n",
       "        </tr>\n",
       "    </table>\n",
       "    </details>\n",
       "    <details open>\n",
       "        <summary><strong>Channels</strong></summary>\n",
       "        <table class=\"table table-hover table-striped table-sm table-responsive small\">\n",
       "            <tr>\n",
       "                <th>Digitized points</th>\n",
       "                \n",
       "                <td>146 points</td>\n",
       "                \n",
       "            </tr>\n",
       "            <tr>\n",
       "                <th>Good channels</th>\n",
       "                <td>203 Gradiometers, 102 Magnetometers, 9 Stimulus, 59 EEG, 1 EOG</td>\n",
       "            </tr>\n",
       "            <tr>\n",
       "                <th>Bad channels</th>\n",
       "                <td>MEG 2443, EEG 053</td>\n",
       "            </tr>\n",
       "            <tr>\n",
       "                <th>EOG channels</th>\n",
       "                <td>EOG 061</td>\n",
       "            </tr>\n",
       "            <tr>\n",
       "                <th>ECG channels</th>\n",
       "                <td>Not available</td>\n",
       "            </tr>\n",
       "        </table>\n",
       "        </details>\n",
       "        <details open>\n",
       "            <summary><strong>Data</strong></summary>\n",
       "            <table class=\"table table-hover table-striped table-sm table-responsive small\">\n",
       "                \n",
       "                <tr>\n",
       "                    <th>Sampling frequency</th>\n",
       "                    <td>600.61 Hz</td>\n",
       "                </tr>\n",
       "                \n",
       "                \n",
       "                <tr>\n",
       "                    <th>Highpass</th>\n",
       "                    <td>0.10 Hz</td>\n",
       "                </tr>\n",
       "                \n",
       "                \n",
       "                <tr>\n",
       "                    <th>Lowpass</th>\n",
       "                    <td>172.18 Hz</td>\n",
       "                </tr>\n",
       "                \n",
       "                \n",
       "                <tr>\n",
       "                    <th>Projections</th>\n",
       "                    <td>PCA-v1 : off<br />PCA-v2 : off<br />PCA-v3 : off</td>\n",
       "                </tr>\n",
       "                \n",
       "                \n",
       "                <tr>\n",
       "                    <th>Filenames</th>\n",
       "                    <td>sample_audvis_raw.fif</td>\n",
       "                </tr>\n",
       "                \n",
       "                \n",
       "                <tr>\n",
       "                    <th>Duration</th>\n",
       "                    <td>00:01:01 (HH:MM:SS)</td>\n",
       "                </tr>\n",
       "                \n",
       "            </table>\n",
       "            </details>"
      ],
      "text/plain": [
       "<Raw | sample_audvis_raw.fif, 376 x 36038 (60.0 s), ~3.3 MB, data not loaded>"
      ]
     },
     "execution_count": 31,
     "metadata": {},
     "output_type": "execute_result"
    }
   ],
   "source": [
    "################################# CELL 3 ################################\n",
    "raw"
   ]
  },
  {
   "cell_type": "code",
   "execution_count": 28,
   "metadata": {},
   "outputs": [
    {
     "name": "stdout",
     "output_type": "stream",
     "text": [
      "Opening raw data file /home/lun047/Desktop/NeuroSTEM/NeuroStem-Workshop/mne_data/MNE-sample-data/MEG/sample/sample_audvis_raw.fif...\n",
      "    Read a total of 3 projection items:\n",
      "        PCA-v1 (1 x 102)  idle\n",
      "        PCA-v2 (1 x 102)  idle\n",
      "        PCA-v3 (1 x 102)  idle\n",
      "    Range : 25800 ... 192599 =     42.956 ...   320.670 secs\n",
      "Ready.\n",
      "Overwriting existing file.\n",
      "Writing /home/lun047/Desktop/NeuroSTEM/NeuroStem-Workshop/sample_data/pre_cropped_sample_audvis_raw.fif\n",
      "Closing /home/lun047/Desktop/NeuroSTEM/NeuroStem-Workshop/sample_data/pre_cropped_sample_audvis_raw.fif\n",
      "[done]\n"
     ]
    }
   ],
   "source": [
    "test = mne.io.Raw(sample_data_location)\n",
    "pre_cropped_sample_data_location = os.path.join(\n",
    "    \"sample_data\", \"pre_cropped_sample_audvis_raw.fif\"\n",
    ") \n",
    "test.save(pre_cropped_sample_data_location, tmin=0.0, tmax=60, overwrite=True)"
   ]
  },
  {
   "cell_type": "code",
   "execution_count": 29,
   "metadata": {},
   "outputs": [
    {
     "name": "stdout",
     "output_type": "stream",
     "text": [
      "Opening raw data file sample_data/pre_cropped_sample_audvis_raw.fif...\n",
      "    Read a total of 3 projection items:\n",
      "        PCA-v1 (1 x 102)  idle\n",
      "        PCA-v2 (1 x 102)  idle\n",
      "        PCA-v3 (1 x 102)  idle\n",
      "    Range : 25800 ... 61837 =     42.956 ...   102.956 secs\n",
      "Ready.\n"
     ]
    },
    {
     "data": {
      "text/html": [
       "<details open>\n",
       "    <summary><strong>General</strong></summary>\n",
       "    <table class=\"table table-hover table-striped table-sm table-responsive small\">\n",
       "        <tr>\n",
       "            <th>Measurement date</th>\n",
       "            \n",
       "            <td>December 03, 2002  19:01:10 GMT</td>\n",
       "            \n",
       "        </tr>\n",
       "        <tr>\n",
       "            <th>Experimenter</th>\n",
       "            \n",
       "            <td>MEG</td>\n",
       "            \n",
       "        </tr>\n",
       "        <tr>\n",
       "            <th>Participant</th>\n",
       "            \n",
       "            <td>Unknown</td>\n",
       "            \n",
       "        </tr>\n",
       "    </table>\n",
       "    </details>\n",
       "    <details open>\n",
       "        <summary><strong>Channels</strong></summary>\n",
       "        <table class=\"table table-hover table-striped table-sm table-responsive small\">\n",
       "            <tr>\n",
       "                <th>Digitized points</th>\n",
       "                \n",
       "                <td>146 points</td>\n",
       "                \n",
       "            </tr>\n",
       "            <tr>\n",
       "                <th>Good channels</th>\n",
       "                <td>203 Gradiometers, 102 Magnetometers, 9 Stimulus, 59 EEG, 1 EOG</td>\n",
       "            </tr>\n",
       "            <tr>\n",
       "                <th>Bad channels</th>\n",
       "                <td>MEG 2443, EEG 053</td>\n",
       "            </tr>\n",
       "            <tr>\n",
       "                <th>EOG channels</th>\n",
       "                <td>EOG 061</td>\n",
       "            </tr>\n",
       "            <tr>\n",
       "                <th>ECG channels</th>\n",
       "                <td>Not available</td>\n",
       "            </tr>\n",
       "        </table>\n",
       "        </details>\n",
       "        <details open>\n",
       "            <summary><strong>Data</strong></summary>\n",
       "            <table class=\"table table-hover table-striped table-sm table-responsive small\">\n",
       "                \n",
       "                <tr>\n",
       "                    <th>Sampling frequency</th>\n",
       "                    <td>600.61 Hz</td>\n",
       "                </tr>\n",
       "                \n",
       "                \n",
       "                <tr>\n",
       "                    <th>Highpass</th>\n",
       "                    <td>0.10 Hz</td>\n",
       "                </tr>\n",
       "                \n",
       "                \n",
       "                <tr>\n",
       "                    <th>Lowpass</th>\n",
       "                    <td>172.18 Hz</td>\n",
       "                </tr>\n",
       "                \n",
       "                \n",
       "                <tr>\n",
       "                    <th>Projections</th>\n",
       "                    <td>PCA-v1 : off<br />PCA-v2 : off<br />PCA-v3 : off</td>\n",
       "                </tr>\n",
       "                \n",
       "                \n",
       "                <tr>\n",
       "                    <th>Filenames</th>\n",
       "                    <td>pre_cropped_sample_audvis_raw.fif</td>\n",
       "                </tr>\n",
       "                \n",
       "                \n",
       "                <tr>\n",
       "                    <th>Duration</th>\n",
       "                    <td>00:01:01 (HH:MM:SS)</td>\n",
       "                </tr>\n",
       "                \n",
       "            </table>\n",
       "            </details>"
      ],
      "text/plain": [
       "<Raw | pre_cropped_sample_audvis_raw.fif, 376 x 36038 (60.0 s), ~3.3 MB, data not loaded>"
      ]
     },
     "execution_count": 29,
     "metadata": {},
     "output_type": "execute_result"
    }
   ],
   "source": [
    "# raw = mne.io.read_raw_fif(................)\n",
    "raw = mne.io.read_raw_fif(pre_cropped_sample_data_location)\n",
    "raw"
   ]
  },
  {
   "cell_type": "markdown",
   "metadata": {},
   "source": [
    "Take a moment to look at the data summary table provided. This table gives us a snapshot of the main characteristics of our dataset.\n",
    "\n",
    "Do you notice any irregularities or anomalies in the data? If so, make a note of them. These could be potential concerns that need to be addressed or explored further.\n",
    "Share your findings with your peers or teacher, see what they have to say as well!"
   ]
  },
  {
   "cell_type": "markdown",
   "metadata": {},
   "source": [
    "#### Learning Objective 3 : Electroencephalography(EEG) Data Manipulation\n",
    "\n",
    "Well done, on getting to this part of the workshop!\n",
    "\n",
    "\n",
    "\n",
    "Note for me:\n",
    "- crop the data recoridng to just the first 20 seconds\n",
    "    - raw.crop(tmax=20)\n",
    "- pick only the eeg and eog channels\n",
    "    eeg_and_eog = raw.copy().pick(picks=[\"eeg\", \"eog\"])\n",
    "    print(len(raw.ch_names), \"→\", len(eeg_and_eog.ch_names))\n",
    "- remove bad channels\n",
    "\n",
    "raw.crop(tmax=60)\n",
    "\n",
    "n_time_samps = raw.n_times\n",
    "time_secs = raw.times\n",
    "ch_names = raw.ch_names\n",
    "n_chan = len(ch_names)  # note: there is no raw.n_channels attribute\n",
    "print(\n",
    "    \"the (cropped) sample data object has {} time samples and {} channels.\"\n",
    "    \"\".format(n_time_samps, n_chan)\n",
    ")\n",
    "print(\"The last time sample is at {} seconds.\".format(time_secs[-1]))\n",
    "print(\"The first few channel names are {}.\".format(\", \".join(ch_names[:3])))\n",
    "print()  # insert a blank line in the output\n",
    "\n",
    "# some examples of raw.info:\n",
    "print(\"bad channels:\", raw.info[\"bads\"])  # chs marked \"bad\" during acquisition\n",
    "print(raw.info[\"sfreq\"], \"Hz\")  # sampling frequency\n",
    "print(raw.info[\"description\"], \"\\n\")  # miscellaneous acquisition info\n",
    "\n",
    "print(raw.info)"
   ]
  },
  {
   "cell_type": "code",
   "execution_count": 5,
   "metadata": {},
   "outputs": [
    {
     "name": "stdout",
     "output_type": "stream",
     "text": [
      "Removing projector <Projection | PCA-v1, active : False, n_channels : 102>\n",
      "Removing projector <Projection | PCA-v2, active : False, n_channels : 102>\n",
      "Removing projector <Projection | PCA-v3, active : False, n_channels : 102>\n",
      "376 → 61\n",
      "Number of channels in raw_temp:\n",
      "376 → drop two → 374 → pick three → 3\n",
      "Removing projector <Projection | PCA-v1, active : False, n_channels : 102>\n",
      "Removing projector <Projection | PCA-v2, active : False, n_channels : 102>\n",
      "Removing projector <Projection | PCA-v3, active : False, n_channels : 102>\n",
      "['EOG 061', 'EEG 003', 'EEG 002', 'EEG 001']\n",
      "<Raw | sample_audvis_raw.fif, 376 x 1503 (2.5 s), ~3.3 MB, data not loaded>\n"
     ]
    }
   ],
   "source": [
    "eeg_and_eog = raw.copy().pick(picks=[\"eeg\", \"eog\"])\n",
    "print(len(raw.ch_names), \"→\", len(eeg_and_eog.ch_names))\n",
    "\n",
    "raw_temp = raw.copy()\n",
    "print(\"Number of channels in raw_temp:\")\n",
    "print(len(raw_temp.ch_names), end=\" → drop two → \")\n",
    "raw_temp.drop_channels([\"EEG 037\", \"EEG 059\"])\n",
    "print(len(raw_temp.ch_names), end=\" → pick three → \")\n",
    "raw_temp.pick([\"MEG 1811\", \"EEG 017\", \"EOG 061\"])\n",
    "print(len(raw_temp.ch_names))\n",
    "\n",
    "channel_names = [\"EOG 061\", \"EEG 003\", \"EEG 002\", \"EEG 001\"]\n",
    "eog_and_frontal_eeg = raw.copy().reorder_channels(channel_names)\n",
    "print(eog_and_frontal_eeg.ch_names)\n",
    "\n",
    "# Limit the time domain\n",
    "\n",
    "raw_selection = raw.copy().crop(tmin=10, tmax=12.5)\n",
    "print(raw_selection)"
   ]
  },
  {
   "cell_type": "markdown",
   "metadata": {},
   "source": [
    "#### Learning Objective 3 : Electroencephalography(EEG) Data Manipulation\n",
    "\n",
    "raw.crop(tmax=60)\n",
    "\n",
    "n_time_samps = raw.n_times\n",
    "time_secs = raw.times\n",
    "ch_names = raw.ch_names\n",
    "n_chan = len(ch_names)  # note: there is no raw.n_channels attribute\n",
    "print(\n",
    "    \"the (cropped) sample data object has {} time samples and {} channels.\"\n",
    "    \"\".format(n_time_samps, n_chan)\n",
    ")\n",
    "print(\"The last time sample is at {} seconds.\".format(time_secs[-1]))\n",
    "print(\"The first few channel names are {}.\".format(\", \".join(ch_names[:3])))\n",
    "print()  # insert a blank line in the output\n",
    "\n",
    "# some examples of raw.info:\n",
    "print(\"bad channels:\", raw.info[\"bads\"])  # chs marked \"bad\" during acquisition\n",
    "print(raw.info[\"sfreq\"], \"Hz\")  # sampling frequency\n",
    "print(raw.info[\"description\"], \"\\n\")  # miscellaneous acquisition info\n",
    "\n",
    "print(raw.info)"
   ]
  },
  {
   "cell_type": "markdown",
   "metadata": {},
   "source": [
    "#### Learning Objective 4 : Acquire Electroencephalography(EEG) data"
   ]
  },
  {
   "cell_type": "markdown",
   "metadata": {},
   "source": [
    "#### Learning Objective 5 : Interpret The Data/plot\n",
    "\n",
    "\n",
    "Give example with images that explains a particular condition \n",
    "\n",
    "\n",
    "\n",
    "\n",
    "Your task:\n",
    "- On a piece of paper or just in your head, what do you think the graph/plot that you have created in the above is trying to tell us about the patient? Are they sleepy, drowsy\n",
    "- I encourage you to have a chat and share your ideas/thoughts with your friends! What do they think?  After all, that's what scientists do. We collaborate together! The more the merrier!"
   ]
  },
  {
   "cell_type": "code",
   "execution_count": null,
   "metadata": {},
   "outputs": [],
   "source": []
  },
  {
   "cell_type": "code",
   "execution_count": null,
   "metadata": {},
   "outputs": [],
   "source": []
  }
 ],
 "metadata": {
  "kernelspec": {
   "display_name": "Python 3",
   "language": "python",
   "name": "python3"
  },
  "language_info": {
   "codemirror_mode": {
    "name": "ipython",
    "version": 3
   },
   "file_extension": ".py",
   "mimetype": "text/x-python",
   "name": "python",
   "nbconvert_exporter": "python",
   "pygments_lexer": "ipython3",
   "version": "3.8.10"
  }
 },
 "nbformat": 4,
 "nbformat_minor": 2
}
