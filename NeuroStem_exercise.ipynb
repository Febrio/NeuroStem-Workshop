{
 "cells": [
  {
   "cell_type": "code",
   "execution_count": null,
   "metadata": {},
   "outputs": [],
   "source": [
    "Insppirations\n",
    "\n",
    "- https://github.com/collin1021/jupyter4kids/blob/master/notebooks/numerical-computing-is-fun-1.ipynb\n",
    "- https://github.com/Project-MONAI/monai-bootcamp/blob/main/MONAICore/Intro%20to%20MONAI.ipynb\n",
    "\n",
    "\n",
    "Other public EEG dataset\n",
    "- https://github.com/meagmohit/EEG-Datasets ()\n",
    "\n",
    "More sample datasets from MNE\n",
    "- https://mne.tools/dev/documentation/datasets.html#sample\n",
    "\n",
    "User guidelines on Binder\n",
    "https://mybinder.readthedocs.io/en/latest/about/user-guidelines.html\n",
    "\n"
   ]
  },
  {
   "cell_type": "markdown",
   "metadata": {},
   "source": [
    "\n",
    "\n",
    "# WELCOME TO NEUROSTEM WORKSHOP 2024\n",
    "[insert NEUROSTEM logo here]\n",
    "\n",
    "\n",
    "This document will give you hands-on experience in what **neuroscientists** do when analysing Electroencephalography(EEG) data!\n"
   ]
  },
  {
   "cell_type": "markdown",
   "metadata": {},
   "source": [
    "\n",
    "## Introduction\n",
    "\n",
    "What you will learn from this workshop: \n",
    "\n",
    "1. How to configure Python so that it can analyse EEG dataset\n",
    "2. How to load the data\n",
    "3. How to manipulate the data\n",
    "4. How to visualise the data\n",
    "5. How to interpret the data\n",
    "\n",
    "Note: This document you are reading is called a [Jupyter notebook](https://jupyter.org/). It is not a static document like a Microsoft Word document, but rather an interactive document that allows us to write and execute code within it!\n",
    "\n",
    "\n",
    "### Try it for yourself! \n",
    "\n",
    "In the below empty cell called \"TESTING CELL\" (where code can be executed)\n",
    "- Let's make a program that says \"Hello World\" (For example, type `print(\"Hello World\")`)\n",
    "\n",
    "- Let's do some simple but difficult maths (For example, type `512 * 15678 * 1.75`)\n",
    "\n",
    " To execute the code, click on ......... (may need to have screenshot of Binder's GUI)???\n"
   ]
  },
  {
   "cell_type": "code",
   "execution_count": null,
   "metadata": {},
   "outputs": [
    {
     "ename": "",
     "evalue": "",
     "output_type": "error",
     "traceback": [
      "\u001b[1;31mRunning cells with 'venv_NEURO' requires the ipykernel package.\n",
      "\u001b[1;31mRun the following command to install 'ipykernel' into the Python environment. \n",
      "\u001b[1;31mCommand: '\"d:/Education/Work/Casual Teaching (JCU)/NeuroStem Workshop/venv_NEURO/Scripts/python.exe\" -m pip install ipykernel -U --force-reinstall'"
     ]
    }
   ],
   "source": [
    "################################# TESTING CELL ################################\n",
    "print(\"Hello World\")\n",
    "512 * 15678 * 1.75\n"
   ]
  },
  {
   "cell_type": "markdown",
   "metadata": {},
   "source": [
    "\n",
    "#### Learning Objective 1: Configuring Python (Loading the packages/dependecies)\n",
    "\n",
    "Python is a very versatile and powerful programming tool. It can be used to program robots, create games, music and even art! However, it is very important that Python is correctly configured for the right job.\n",
    "\n",
    "For us, as neuroscientists, Python needs to be configured with neuroscientists tools so that it's useful to us.\n",
    "\n",
    "To do so we can run the following code in the following cell (\"CELL 1\"):\n",
    " - `import nme` : this line of code configures Python with the tools so that it can work with EEG data. \n",
    " - `import numpy as np` : this allows Python to do even more complicated Mathematical operations which will help us when manipulating the EEG data\n",
    " - `import matplotlib.pyplot as plt` : this allows Python to plot the data on a graph\n",
    "\n",
    "\n",
    " Qeustions for me : have we installed the packages or does it need to be installed on the spot ? "
   ]
  },
  {
   "cell_type": "code",
   "execution_count": null,
   "metadata": {},
   "outputs": [
    {
     "ename": "",
     "evalue": "",
     "output_type": "error",
     "traceback": [
      "\u001b[1;31mRunning cells with 'venv' requires the ipykernel package.\n",
      "\u001b[1;31mRun the following command to install 'ipykernel' into the Python environment. \n",
      "\u001b[1;31mCommand: '\"d:/Education/Work/Casual Teaching (JCU)/NeuroStem Workshop/venv/Scripts/python.exe\" -m pip install ipykernel -U --force-reinstall'"
     ]
    }
   ],
   "source": [
    "################################# CELL 1 ################################\n",
    "import mne\n",
    "import numpy as np"
   ]
  },
  {
   "cell_type": "markdown",
   "metadata": {},
   "source": [
    "#### Learning Objective 2 : Load Up the EEG Data\n",
    "\n",
    "\n",
    "Comment: other source of EEG data https://github.com/meagmohit/EEG-Datasets\n",
    "    - maybe just download a few and load it up into the repo \n",
    "\n",
    "\n",
    "sample_data_folder = mne.datasets.sample.data_path()\n",
    "sample_data_raw_file = os.path.join(\n",
    "    sample_data_folder, \"MEG\", \"sample\", \"sample_audvis_raw.fif\"\n",
    ")\n",
    "raw = mne.io.read_raw_fif(sample_data_raw_file)\n",
    "\n",
    "eeg_and_eog = raw.copy().pick(picks=[\"eeg\", \"eog\"])\n",
    "print(len(raw.ch_names), \"→\", len(eeg_and_eog.ch_names))\n",
    "\n",
    "raw_temp = raw.copy()\n",
    "print(\"Number of channels in raw_temp:\")\n",
    "print(len(raw_temp.ch_names), end=\" → drop two → \")\n",
    "raw_temp.drop_channels([\"EEG 037\", \"EEG 059\"])\n",
    "print(len(raw_temp.ch_names), end=\" → pick three → \")\n",
    "raw_temp.pick([\"MEG 1811\", \"EEG 017\", \"EOG 061\"])\n",
    "print(len(raw_temp.ch_names))\n",
    "\n",
    "channel_names = [\"EOG 061\", \"EEG 003\", \"EEG 002\", \"EEG 001\"]\n",
    "eog_and_frontal_eeg = raw.copy().reorder_channels(channel_names)\n",
    "print(eog_and_frontal_eeg.ch_names)"
   ]
  },
  {
   "cell_type": "code",
   "execution_count": null,
   "metadata": {},
   "outputs": [],
   "source": [
    "# Limit the time domain\n",
    "\n",
    "raw_selection = raw.copy().crop(tmin=10, tmax=12.5)\n",
    "print(raw_selection)"
   ]
  },
  {
   "cell_type": "markdown",
   "metadata": {},
   "source": [
    "#### Learning Objective 3 : Electroencephalography(EEG) Data Manipulation\n",
    "\n",
    "raw.crop(tmax=60)\n",
    "\n",
    "n_time_samps = raw.n_times\n",
    "time_secs = raw.times\n",
    "ch_names = raw.ch_names\n",
    "n_chan = len(ch_names)  # note: there is no raw.n_channels attribute\n",
    "print(\n",
    "    \"the (cropped) sample data object has {} time samples and {} channels.\"\n",
    "    \"\".format(n_time_samps, n_chan)\n",
    ")\n",
    "print(\"The last time sample is at {} seconds.\".format(time_secs[-1]))\n",
    "print(\"The first few channel names are {}.\".format(\", \".join(ch_names[:3])))\n",
    "print()  # insert a blank line in the output\n",
    "\n",
    "# some examples of raw.info:\n",
    "print(\"bad channels:\", raw.info[\"bads\"])  # chs marked \"bad\" during acquisition\n",
    "print(raw.info[\"sfreq\"], \"Hz\")  # sampling frequency\n",
    "print(raw.info[\"description\"], \"\\n\")  # miscellaneous acquisition info\n",
    "\n",
    "print(raw.info)"
   ]
  },
  {
   "cell_type": "markdown",
   "metadata": {},
   "source": [
    "#### Learning Objective 4 : Acquire Electroencephalography(EEG) data"
   ]
  },
  {
   "cell_type": "markdown",
   "metadata": {},
   "source": [
    "#### Learning Objective 5 : Interpret The Data/plot\n",
    "\n",
    "\n",
    "Give example with images that explains a particular condition \n",
    "\n",
    "\n",
    "\n",
    "\n",
    "Your task:\n",
    "- On a piece of paper or just in your head, what do you think the graph/plot that you have created in the above is trying to tell us about the patient? Are they sleepy, drowsy\n",
    "- I encourage you to have a chat and share your ideas/thoughts with your friends! What do they think?  After all, that's what scientists do. We collaborate together! The more the merrier!"
   ]
  },
  {
   "cell_type": "code",
   "execution_count": null,
   "metadata": {},
   "outputs": [],
   "source": []
  },
  {
   "cell_type": "code",
   "execution_count": null,
   "metadata": {},
   "outputs": [],
   "source": []
  }
 ],
 "metadata": {
  "kernelspec": {
   "display_name": "Python 3",
   "language": "python",
   "name": "python3"
  },
  "language_info": {
   "codemirror_mode": {
    "name": "ipython",
    "version": 3
   },
   "file_extension": ".py",
   "mimetype": "text/x-python",
   "name": "python",
   "nbconvert_exporter": "python",
   "pygments_lexer": "ipython3",
   "version": "3.6.1"
  }
 },
 "nbformat": 4,
 "nbformat_minor": 2
}
